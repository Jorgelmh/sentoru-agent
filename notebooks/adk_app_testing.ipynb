{
 "cells": [
  {
   "cell_type": "markdown",
   "metadata": {},
   "source": [
    "# ADK Application Testing\n",
    "\n",
    "This notebook demonstrates how to test an ADK (Agent Development Kit) application.\n",
    "It covers both local and remote testing, both with Agent Engine and Cloud Run.\n",
    "\n",
    "<img src=\"https://github.com/GoogleCloudPlatform/agent-starter-pack/blob/main/docs/images/adk_logo.png?raw=true\" width=\"400\">\n"
   ]
  },
  {
   "cell_type": "markdown",
   "metadata": {},
   "source": [
    "## Install dependencies"
   ]
  },
  {
   "cell_type": "code",
   "execution_count": null,
   "metadata": {},
   "outputs": [],
   "source": [
    "!pip install google-cloud-aiplatform --upgrade"
   ]
  },
  {
   "cell_type": "markdown",
   "metadata": {},
   "source": [
    "### Import libraries"
   ]
  },
  {
   "cell_type": "code",
   "execution_count": 1,
   "metadata": {},
   "outputs": [],
   "source": [
    "import json\n",
    "from pathlib import Path\n",
    "import requests"
   ]
  },
  {
   "cell_type": "markdown",
   "metadata": {},
   "source": [
    "## If you are using Agent Engine\n",
    "See more documentation at [Agent Engine Overview](https://cloud.google.com/vertex-ai/generative-ai/docs/agent-engine/overview)"
   ]
  },
  {
   "cell_type": "markdown",
   "metadata": {},
   "source": [
    "### Remote Testing"
   ]
  },
  {
   "cell_type": "code",
   "execution_count": 4,
   "metadata": {},
   "outputs": [],
   "source": [
    "# Replace with your Agent Engine ID\n",
    "AGENT_ENGINE_ID = \"projects/PROJECT_ID/locations/us-central1/reasoningEngines/ENGINE_ID\""
   ]
  },
  {
   "cell_type": "code",
   "execution_count": 5,
   "metadata": {},
   "outputs": [],
   "source": [
    "remote_agent_engine = vertexai.agent_engines.get(AGENT_ENGINE_ID)"
   ]
  },
  {
   "cell_type": "code",
   "execution_count": null,
   "metadata": {},
   "outputs": [],
   "source": [
    "for event in remote_agent_engine.stream_query(message=\"hi!\", user_id=\"test\"):\n",
    "    print(event)"
   ]
  },
  {
   "cell_type": "code",
   "execution_count": null,
   "metadata": {},
   "outputs": [],
   "source": [
    "remote_agent_engine.register_feedback(\n",
    "    feedback={\n",
    "        \"score\": 5,\n",
    "        \"text\": \"Great response!\",\n",
    "        \"invocation_id\": \"test-invocation-123\",\n",
    "        \"user_id\": \"test\",\n",
    "    }\n",
    ")"
   ]
  },
  {
   "cell_type": "markdown",
   "metadata": {},
   "source": [
    "### Local Testing\n",
    "\n",
    "You can import directly the AgentEngineApp class within your environment. \n",
    "To run the agent locally, follow these steps:\n",
    "1. Make sure all required packages are installed in your environment\n",
    "2. The recommended approach is to use the same virtual environment created by the 'uv' tool\n",
    "3. You can set up this environment by running 'make install' from your agent's root directory\n",
    "4. Then select this kernel (.venv folder in your project) in your Jupyter notebook to ensure all dependencies are available"
   ]
  },
  {
   "cell_type": "code",
   "execution_count": null,
   "metadata": {},
   "outputs": [],
   "source": [
    "from app.agent import root_agent\n",
    "from app.agent_engine_app import AgentEngineApp\n",
    "\n",
    "agent_engine = AgentEngineApp(agent=root_agent)"
   ]
  },
  {
   "cell_type": "code",
   "execution_count": null,
   "metadata": {},
   "outputs": [],
   "source": [
    "agent_response = agent_engine.query(message=\"hi!\", user_id=\"test\")"
   ]
  },
  {
   "cell_type": "markdown",
   "metadata": {},
   "source": [
    "### Local Testing\n",
    "\n",
    "> You can run the application locally via the `make backend` command."
   ]
  },
  {
   "cell_type": "markdown",
   "metadata": {},
   "source": [
    "#### Create a session\n",
    " Create a new session with user preferences and state information\n"
   ]
  },
  {
   "cell_type": "code",
   "execution_count": 35,
   "metadata": {},
   "outputs": [
    {
     "name": "stdout",
     "output_type": "stream",
     "text": [
      "Session creation status code: {\"id\":\"test_session_456\",\"app_name\":\"app\",\"user_id\":\"test_user_123\",\"state\":{\"state\":{\"preferred_language\":\"English\",\"visit_count\":1},\"git_diff\":\"diff --git a/main.py b/main.py\\nindex 062670c..eac224e 100644\\n--- a/main.py\\n+++ b/main.py\\n@@ -1,7 +1,42 @@\\n from fastapi import FastAPI\\n+from contextlib import asynccontextmanager\\n+import aiosqlite\\n\\n-app = FastAPI()\\n+@asynccontextmanager\\n+async def lifespan(app: FastAPI):\\n+    # Create and connect to the database\\n+    db = await aiosqlite.connect('users.db')\\n+    cursor = await db.cursor()\\n+    await cursor.execute('''\\n+        CREATE TABLE IF NOT EXISTS users (\\n+            username TEXT PRIMARY KEY,\\n+            email TEXT\\n+        )\\n+    ''')\\n+    await cursor.execute(\\\"INSERT OR IGNORE INTO users (username, email) VALUES ('alice', 'alice@example.com')\\\")\\n+    await cursor.execute(\\\"INSERT OR IGNORE INTO users (username, email) VALUES ('bob', 'bob@example.com')\\\")\\n+    await db.commit()\\n+    await db.close()\\n+    yield\\n+\\n+app = FastAPI(lifespan=lifespan)\\n\\n @app.get(\\\"/\\\")\\n def read_root():\\n-    return {\\\"Hello\\\": \\\"World\\\"}\\n\\\\ No newline at end of file\\n+    return {\\\"Hello\\\": \\\"World\\\"}\\n+\\n+@app.get(\\\"/users/{username}\\\")\\n+async def get_user(username: str):\\n+    db = await aiosqlite.connect('users.db')\\n+    cursor = await db.cursor()\\n+\\n+    query = f\\\"SELECT * FROM users WHERE username = '{username}'\\\"\\n+\\n+    await cursor.execute(query)\\n+    user = await cursor.fetchone()\\n+    await db.close()\\n+\\n+    if user:\\n+        return {\\\"username\\\": user[0], \\\"email\\\": user[1]}\\n+    else:\\n+        return {\\\"error\\\": \\\"User not found\\\"}\"},\"events\":[],\"last_update_time\":1749412588.211342}\n"
     ]
    }
   ],
   "source": [
    "with open(\"../tests/samples/diff.txt\", \"r\") as f:\n",
    "    git_diff = f.read()\n",
    "\n",
    "user_id = \"test_user_123\"\n",
    "session_id = \"test_session_456\"\n",
    "session_data = {\"state\": {\"preferred_language\": \"English\", \"visit_count\": 1}, \"git_diff\": git_diff}\n",
    "\n",
    "session_url = f\"http://127.0.0.1:8501/apps/app/users/{user_id}/sessions/{session_id}\"\n",
    "headers = {\"Content-Type\": \"application/json\"}\n",
    "\n",
    "session_response = requests.post(session_url, headers=headers, json=session_data)\n",
    "print(f\"Session creation status code: {session_response.text}\")"
   ]
  },
  {
   "cell_type": "markdown",
   "metadata": {},
   "source": [
    "#### Send a message\n",
    "Send a message to the backend service and receive a streaming response\n"
   ]
  },
  {
   "cell_type": "code",
   "execution_count": 36,
   "metadata": {},
   "outputs": [
    {
     "name": "stdout",
     "output_type": "stream",
     "text": [
      "Message send status code: 200\n",
      "[{\"content\":{\"parts\":[{\"functionCall\":{\"id\":\"adk-ed6b0b2d-0e1d-4f50-b727-ec8b02a8f7bb\",\"args\":{\"agent_name\":\"VulnerabilityFixerAgent\"},\"name\":\"transfer_to_agent\"}}],\"role\":\"model\"},\"invocation_id\":\"e-98337052-00b8-4531-8f83-d026ebcced7c\",\"author\":\"root_agent\",\"actions\":{\"state_delta\":{},\"artifact_delta\":{},\"requested_auth_configs\":{}},\"long_running_tool_ids\":[],\"id\":\"hBNV8r5a\",\"timestamp\":1749412591.832031},{\"content\":{\"parts\":[{\"functionResponse\":{\"id\":\"adk-ed6b0b2d-0e1d-4f50-b727-ec8b02a8f7bb\",\"name\":\"transfer_to_agent\",\"response\":{}}}],\"role\":\"user\"},\"invocation_id\":\"e-98337052-00b8-4531-8f83-d026ebcced7c\",\"author\":\"root_agent\",\"actions\":{\"state_delta\":{},\"artifact_delta\":{},\"transfer_to_agent\":\"VulnerabilityFixerAgent\",\"requested_auth_configs\":{}},\"id\":\"C7u0AcPO\",\"timestamp\":1749412595.944732},{\"content\":{\"parts\":[{\"text\":\"{\\n  \\\"patches\\\": [\\n    {\\n      \\\"file\\\": \\\"main.py\\\",\\n      \\\"position\\\": 24,\\n      \\\"patch\\\": \\\"```suggestion\\\\n    db = await aiosqlite.connect('users.db')\\\\n    cursor = await db.cursor()\\\\n\\\\n    query = \\\\\\\"SELECT * FROM users WHERE username = ?\\\\\\\"\\\\n    await cursor.execute(query, (username,))\\\\n    user = await cursor.fetchone()\\\\n    await db.close()\\\\n```\\\",\\n      \\\"comment\\\": \\\"The original code was vulnerable to SQL injection because it used an f-string to construct the SQL query. An attacker could inject malicious SQL code by manipulating the `username` parameter. The corrected code uses a parameterized query with a placeholder `?` and passes the `username` as a parameter to the `execute` method. This ensures that the `username` is treated as a literal value and prevents SQL injection.\\\"\\n    }\\n  ],\\n  \\\"comment\\\": \\\"Fixed one SQL injection vulnerability by using parameterized queries.\\\"\\n}\"}],\"role\":\"model\"},\"invocation_id\":\"e-98337052-00b8-4531-8f83-d026ebcced7c\",\"author\":\"VulnerabilityFixerAgent\",\"actions\":{\"state_delta\":{\"fixed_code_patches\":{\"patches\":[{\"file\":\"main.py\",\"position\":24,\"patch\":\"```suggestion\\n    db = await aiosqlite.connect('users.db')\\n    cursor = await db.cursor()\\n\\n    query = \\\"SELECT * FROM users WHERE username = ?\\\"\\n    await cursor.execute(query, (username,))\\n    user = await cursor.fetchone()\\n    await db.close()\\n```\",\"comment\":\"The original code was vulnerable to SQL injection because it used an f-string to construct the SQL query. An attacker could inject malicious SQL code by manipulating the `username` parameter. The corrected code uses a parameterized query with a placeholder `?` and passes the `username` as a parameter to the `execute` method. This ensures that the `username` is treated as a literal value and prevents SQL injection.\"}],\"comment\":\"Fixed one SQL injection vulnerability by using parameterized queries.\"}},\"artifact_delta\":{},\"requested_auth_configs\":{}},\"id\":\"5uMdCv9n\",\"timestamp\":1749412595.945731}]\n"
     ]
    }
   ],
   "source": [
    "message_data = {\n",
    "    \"app_name\": \"app\",\n",
    "    \"user_id\": user_id,\n",
    "    \"session_id\": session_id,\n",
    "    \"new_message\": {\"role\": \"user\", \"parts\": [{\"text\": \"Review PR code changes according to your instructions.\"}]},\n",
    "    \"streaming\": False,\n",
    "}\n",
    "\n",
    "message_url = \"http://127.0.0.1:8501/run\"\n",
    "message_response = requests.post(\n",
    "    message_url, headers=headers, json=message_data, stream=False\n",
    ")\n",
    "\n",
    "print(f\"Message send status code: {message_response.status_code}\")\n",
    "print(message_response.text)"
   ]
  }
 ],
 "metadata": {
  "kernelspec": {
   "display_name": ".venv",
   "language": "python",
   "name": "python3"
  },
  "language_info": {
   "codemirror_mode": {
    "name": "ipython",
    "version": 3
   },
   "file_extension": ".py",
   "mimetype": "text/x-python",
   "name": "python",
   "nbconvert_exporter": "python",
   "pygments_lexer": "ipython3",
   "version": "3.11.6"
  }
 },
 "nbformat": 4,
 "nbformat_minor": 2
}
