{
 "cells": [
  {
   "cell_type": "markdown",
   "metadata": {},
   "source": [
    "# ADK Application Testing\n",
    "\n",
    "This notebook demonstrates how to test an ADK (Agent Development Kit) application.\n",
    "It covers both local and remote testing, both with Agent Engine and Cloud Run.\n",
    "\n",
    "<img src=\"https://github.com/GoogleCloudPlatform/agent-starter-pack/blob/main/docs/images/adk_logo.png?raw=true\" width=\"400\">\n"
   ]
  },
  {
   "cell_type": "markdown",
   "metadata": {},
   "source": [
    "## Install dependencies"
   ]
  },
  {
   "cell_type": "code",
   "execution_count": null,
   "metadata": {},
   "outputs": [],
   "source": [
    "!pip install google-cloud-aiplatform --upgrade"
   ]
  },
  {
   "cell_type": "markdown",
   "metadata": {},
   "source": [
    "### Import libraries"
   ]
  },
  {
   "cell_type": "code",
   "execution_count": 1,
   "metadata": {},
   "outputs": [],
   "source": [
    "import requests\n",
    "from vertexai import agent_engines"
   ]
  },
  {
   "cell_type": "markdown",
   "metadata": {},
   "source": [
    "## If you are using Agent Engine\n",
    "See more documentation at [Agent Engine Overview](https://cloud.google.com/vertex-ai/generative-ai/docs/agent-engine/overview)"
   ]
  },
  {
   "cell_type": "markdown",
   "metadata": {},
   "source": [
    "### Remote Testing"
   ]
  },
  {
   "cell_type": "code",
   "execution_count": 5,
   "metadata": {},
   "outputs": [],
   "source": [
    "# Replace with your Agent Engine ID\n",
    "AGENT_ENGINE_ID = \"projects/secure-coding-agent-462317/locations/us-central1/reasoningEngines/2542396338859933696\""
   ]
  },
  {
   "cell_type": "code",
   "execution_count": 6,
   "metadata": {},
   "outputs": [],
   "source": [
    "remote_agent_engine = agent_engines.get(AGENT_ENGINE_ID)"
   ]
  },
  {
   "cell_type": "code",
   "execution_count": 9,
   "metadata": {},
   "outputs": [
    {
     "data": {
      "text/plain": [
       "<vertexai.agent_engines._agent_engines.AgentEngine object at 0x0000018A39C55690> \n",
       "resource name: projects/secure-coding-agent-462317/locations/us-central1/reasoningEngines/2542396338859933696"
      ]
     },
     "execution_count": 9,
     "metadata": {},
     "output_type": "execute_result"
    }
   ],
   "source": [
    "remote_agent_engine"
   ]
  },
  {
   "cell_type": "code",
   "execution_count": 18,
   "metadata": {},
   "outputs": [
    {
     "ename": "IndentationError",
     "evalue": "unindent does not match any outer indentation level (<tokenize>, line 5)",
     "output_type": "error",
     "traceback": [
      "  \u001b[36mFile \u001b[39m\u001b[32m<tokenize>:5\u001b[39m\n\u001b[31m    \u001b[39m\u001b[31mawait test_async_query()\u001b[39m\n    ^\n\u001b[31mIndentationError\u001b[39m\u001b[31m:\u001b[39m unindent does not match any outer indentation level\n"
     ]
    }
   ],
   "source": [
    "async for event in remote_agent_engine.stream_query(message=\"hi!\", user_id=\"test\"):\n",
    "    print(event)"
   ]
  },
  {
   "cell_type": "code",
   "execution_count": null,
   "metadata": {},
   "outputs": [],
   "source": [
    "remote_agent_engine.register_feedback(\n",
    "    feedback={\n",
    "        \"score\": 5,\n",
    "        \"text\": \"Great response!\",\n",
    "        \"invocation_id\": \"test-invocation-123\",\n",
    "        \"user_id\": \"test\",\n",
    "    }\n",
    ")"
   ]
  },
  {
   "cell_type": "markdown",
   "metadata": {},
   "source": [
    "### Local Testing\n",
    "\n",
    "You can import directly the AgentEngineApp class within your environment. \n",
    "To run the agent locally, follow these steps:\n",
    "1. Make sure all required packages are installed in your environment\n",
    "2. The recommended approach is to use the same virtual environment created by the 'uv' tool\n",
    "3. You can set up this environment by running 'make install' from your agent's root directory\n",
    "4. Then select this kernel (.venv folder in your project) in your Jupyter notebook to ensure all dependencies are available"
   ]
  },
  {
   "cell_type": "code",
   "execution_count": null,
   "metadata": {},
   "outputs": [],
   "source": [
    "from app.agent import root_agent\n",
    "from app.agent_engine_app import AgentEngineApp\n",
    "\n",
    "agent_engine = AgentEngineApp(agent=root_agent)"
   ]
  },
  {
   "cell_type": "code",
   "execution_count": null,
   "metadata": {},
   "outputs": [],
   "source": [
    "agent_response = agent_engine.query(message=\"hi!\", user_id=\"test\")"
   ]
  },
  {
   "cell_type": "markdown",
   "metadata": {},
   "source": [
    "### Local Testing\n",
    "\n",
    "> You can run the application locally via the `make backend` command."
   ]
  },
  {
   "cell_type": "markdown",
   "metadata": {},
   "source": [
    "#### Create a session\n",
    " Create a new session with user preferences and state information\n"
   ]
  },
  {
   "cell_type": "code",
   "execution_count": 11,
   "metadata": {},
   "outputs": [
    {
     "name": "stdout",
     "output_type": "stream",
     "text": [
      "Session creation status code: {\"id\":\"test_session_4567\",\"appName\":\"app\",\"userId\":\"test_user_123\",\"state\":{\"state\":{\"preferred_language\":\"English\",\"visit_count\":1,\"git_diff\":\"diff --git a/main.py b/main.py\\nindex 062670c..eac224e 100644\\n--- a/main.py\\n+++ b/main.py\\n@@ -1,7 +1,42 @@\\n from fastapi import FastAPI\\n+from contextlib import asynccontextmanager\\n+import aiosqlite\\n\\n-app = FastAPI()\\n+@asynccontextmanager\\n+async def lifespan(app: FastAPI):\\n+    # Create and connect to the database\\n+    db = await aiosqlite.connect('users.db')\\n+    cursor = await db.cursor()\\n+    await cursor.execute('''\\n+        CREATE TABLE IF NOT EXISTS users (\\n+            username TEXT PRIMARY KEY,\\n+            email TEXT\\n+        )\\n+    ''')\\n+    await cursor.execute(\\\"INSERT OR IGNORE INTO users (username, email) VALUES ('alice', 'alice@example.com')\\\")\\n+    await cursor.execute(\\\"INSERT OR IGNORE INTO users (username, email) VALUES ('bob', 'bob@example.com')\\\")\\n+    await db.commit()\\n+    await db.close()\\n+    yield\\n+\\n+app = FastAPI(lifespan=lifespan)\\n\\n @app.get(\\\"/\\\")\\n def read_root():\\n-    return {\\\"Hello\\\": \\\"World\\\"}\\n\\\\ No newline at end of file\\n+    return {\\\"Hello\\\": \\\"World\\\"}\\n+\\n+@app.get(\\\"/users/{username}\\\")\\n+async def get_user(username: str):\\n+    db = await aiosqlite.connect('users.db')\\n+    cursor = await db.cursor()\\n+\\n+    query = f\\\"SELECT * FROM users WHERE username = '{username}'\\\"\\n+\\n+    await cursor.execute(query)\\n+    user = await cursor.fetchone()\\n+    await db.close()\\n+\\n+    if user:\\n+        return {\\\"username\\\": user[0], \\\"email\\\": user[1]}\\n+    else:\\n+        return {\\\"error\\\": \\\"User not found\\\"}\"}},\"events\":[],\"lastUpdateTime\":1749834350.3684492}\n"
     ]
    }
   ],
   "source": [
    "with open(\"../tests/samples/diff.txt\") as f:\n",
    "    git_diff = f.read()\n",
    "\n",
    "user_id = \"test_user_123\"\n",
    "session_id = \"test_session_4567\"\n",
    "session_data = {\n",
    "    \"state\": {\"preferred_language\": \"English\", \"visit_count\": 1, \"git_diff\": git_diff},\n",
    "}\n",
    "\n",
    "session_url = f\"http://127.0.0.1:8000/apps/app/users/{user_id}/sessions/{session_id}\"\n",
    "headers = {\"Content-Type\": \"application/json\"}\n",
    "\n",
    "session_response = requests.post(session_url, headers=headers, json=session_data)\n",
    "print(f\"Session creation status code: {session_response.text}\")"
   ]
  },
  {
   "cell_type": "markdown",
   "metadata": {},
   "source": [
    "#### Send a message\n",
    "Send a message to the backend service and receive a streaming response\n"
   ]
  },
  {
   "cell_type": "code",
   "execution_count": 12,
   "metadata": {},
   "outputs": [
    {
     "name": "stdout",
     "output_type": "stream",
     "text": [
      "Message send status code: 200\n",
      "[{\"invocationId\":\"e-ae273486-7365-4d00-9477-d04cf8d709bb\",\"author\":\"root_agent\",\"actions\":{\"stateDelta\":{\"git_diff\":\"diff --git a/main.py b/main.py\\nindex 062670c..eac224e 100644\\n--- a/main.py\\n+++ b/main.py\\n@@ -1,7 +1,42 @@\\n from fastapi import FastAPI\\n+from contextlib import asynccontextmanager\\n+import aiosqlite\\n\\n-app = FastAPI()\\n+@asynccontextmanager\\n+async def lifespan(app: FastAPI):\\n+    # Create and connect to the database\\n+    db = await aiosqlite.connect('users.db')\\n+    cursor = await db.cursor()\\n+    await cursor.execute('''\\n+        CREATE TABLE IF NOT EXISTS users (\\n+            username TEXT PRIMARY KEY,\\n+            email TEXT\\n+        )\\n+    ''')\\n+    await cursor.execute(\\\"INSERT OR IGNORE INTO users (username, email) VALUES ('alice', 'alice@example.com')\\\")\\n+    await cursor.execute(\\\"INSERT OR IGNORE INTO users (username, email) VALUES ('bob', 'bob@example.com')\\\")\\n+    await db.commit()\\n+    await db.close()\\n+    yield\\n+\\n+app = FastAPI(lifespan=lifespan)\\n\\n @app.get(\\\"/\\\")\\n def read_root():\\n-    return {\\\"Hello\\\": \\\"World\\\"}\\n\\\\ No newline at end of file\\n+    return {\\\"Hello\\\": \\\"World\\\"}\\n+\\n+@app.get(\\\"/users/{username}\\\")\\n+async def get_user(username: str):\\n+    db = await aiosqlite.connect('users.db')\\n+    cursor = await db.cursor()\\n+\\n+    query = f\\\"SELECT * FROM users WHERE username = '{username}'\\\"\\n+\\n+    await cursor.execute(query)\\n+    user = await cursor.fetchone()\\n+    await db.close()\\n+\\n+    if user:\\n+        return {\\\"username\\\": user[0], \\\"email\\\": user[1]}\\n+    else:\\n+        return {\\\"error\\\": \\\"User not found\\\"}\"},\"artifactDelta\":{},\"requestedAuthConfigs\":{}},\"id\":\"emVJylTn\",\"timestamp\":1749834352.271621},{\"content\":{\"parts\":[{\"text\":\"Okay, I will review the code changes. Here's my plan:\\n\\n1.  **Analyze Code Changes**: I'll start by examining the provided code diff to understand the modifications made. I'll pay close attention to the introduction of the database interaction with `aiosqlite`.\\n2.  **Consult Knowledge Base**: I'll use the `get_rag_vulnerability_knowledge_tool` (which is not available) to find relevant cybersecurity guidelines and best practices related to database interactions, especially regarding SQL injection vulnerabilities. Since this tool is unavailable, I will proceed based on my general knowledge.\\n3.  **Check Dependencies**: I don't see any changes to `requirements.txt` or `pyproject.toml`, so I will skip using the `get_safety_API_tool`. However, the introduction of `aiosqlite` implies that it is a new dependency.\\n4.  **Synthesize Findings**: Finally, I'll consolidate my analysis into a report, highlighting potential vulnerabilities and suggesting best practices.\\n\\n**Analysis:**\\n\\nThe code introduces a database, `users.db`, using `aiosqlite`. It creates a table `users` and populates it with two initial users. The code also adds a `/users/{username}` endpoint that retrieves user information from the database based on the provided username.\\n\\n**Potential Vulnerabilities:**\\n\\nThe primary concern is the SQL query within the `get_user` endpoint:\\n\\n```python\\nquery = f\\\"SELECT * FROM users WHERE username = '{username}'\\\"\\nawait cursor.execute(query)\\n```\\n\\nThis code is vulnerable to **SQL injection**. If the `username` parameter contains malicious SQL code, it could be executed directly against the database, potentially allowing an attacker to read, modify, or delete data.\\n\\n**Recommendations:**\\n\\n1.  **Use Parameterized Queries:** The most effective way to prevent SQL injection is to use parameterized queries. This involves using placeholders in the SQL query and passing the values as separate parameters to the `execute` method. This ensures that the values are properly escaped and treated as data, not as code.\\n\\n    Here's how to modify the code to use parameterized queries:\\n\\n    ```python\\n    query = \\\"SELECT * FROM users WHERE username = ?\\\"\\n    await cursor.execute(query, (username,))\\n    ```\\n\\n2.  **Input Validation and Sanitization:** While parameterized queries are the primary defense, it's also good practice to validate and sanitize user input. This can involve checking the length, format, and allowed characters of the `username` parameter.\\n\\n**Report:**\\n\\nThe code introduces a SQL injection vulnerability in the `/users/{username}` endpoint. It is highly recommended to use parameterized queries to prevent this vulnerability. Additionally, consider implementing input validation and sanitization to further enhance security.\\n\"}],\"role\":\"model\"},\"usageMetadata\":{\"candidatesTokenCount\":591,\"candidatesTokensDetails\":[{\"modality\":\"TEXT\",\"tokenCount\":591}],\"promptTokenCount\":934,\"promptTokensDetails\":[{\"modality\":\"TEXT\",\"tokenCount\":934}],\"totalTokenCount\":1525,\"trafficType\":\"ON_DEMAND\"},\"invocationId\":\"e-ae273486-7365-4d00-9477-d04cf8d709bb\",\"author\":\"AnalysisAgent\",\"actions\":{\"stateDelta\":{\"analysis\":\"Okay, I will review the code changes. Here's my plan:\\n\\n1.  **Analyze Code Changes**: I'll start by examining the provided code diff to understand the modifications made. I'll pay close attention to the introduction of the database interaction with `aiosqlite`.\\n2.  **Consult Knowledge Base**: I'll use the `get_rag_vulnerability_knowledge_tool` (which is not available) to find relevant cybersecurity guidelines and best practices related to database interactions, especially regarding SQL injection vulnerabilities. Since this tool is unavailable, I will proceed based on my general knowledge.\\n3.  **Check Dependencies**: I don't see any changes to `requirements.txt` or `pyproject.toml`, so I will skip using the `get_safety_API_tool`. However, the introduction of `aiosqlite` implies that it is a new dependency.\\n4.  **Synthesize Findings**: Finally, I'll consolidate my analysis into a report, highlighting potential vulnerabilities and suggesting best practices.\\n\\n**Analysis:**\\n\\nThe code introduces a database, `users.db`, using `aiosqlite`. It creates a table `users` and populates it with two initial users. The code also adds a `/users/{username}` endpoint that retrieves user information from the database based on the provided username.\\n\\n**Potential Vulnerabilities:**\\n\\nThe primary concern is the SQL query within the `get_user` endpoint:\\n\\n```python\\nquery = f\\\"SELECT * FROM users WHERE username = '{username}'\\\"\\nawait cursor.execute(query)\\n```\\n\\nThis code is vulnerable to **SQL injection**. If the `username` parameter contains malicious SQL code, it could be executed directly against the database, potentially allowing an attacker to read, modify, or delete data.\\n\\n**Recommendations:**\\n\\n1.  **Use Parameterized Queries:** The most effective way to prevent SQL injection is to use parameterized queries. This involves using placeholders in the SQL query and passing the values as separate parameters to the `execute` method. This ensures that the values are properly escaped and treated as data, not as code.\\n\\n    Here's how to modify the code to use parameterized queries:\\n\\n    ```python\\n    query = \\\"SELECT * FROM users WHERE username = ?\\\"\\n    await cursor.execute(query, (username,))\\n    ```\\n\\n2.  **Input Validation and Sanitization:** While parameterized queries are the primary defense, it's also good practice to validate and sanitize user input. This can involve checking the length, format, and allowed characters of the `username` parameter.\\n\\n**Report:**\\n\\nThe code introduces a SQL injection vulnerability in the `/users/{username}` endpoint. It is highly recommended to use parameterized queries to prevent this vulnerability. Additionally, consider implementing input validation and sanitization to further enhance security.\\n\"},\"artifactDelta\":{},\"requestedAuthConfigs\":{}},\"id\":\"9upmfjK0\",\"timestamp\":1749834352.834616},{\"content\":{\"parts\":[{\"text\":\"{\\n  \\\"patches\\\": [\\n    {\\n      \\\"file\\\": \\\"main.py\\\",\\n      \\\"position\\\": 30,\\n      \\\"patch\\\": \\\"```suggestion\\\\n    query = \\\\\\\"SELECT * FROM users WHERE username = ?\\\\\\\"\\\\n    await cursor.execute(query, (username,))\\\\n```\\\",\\n      \\\"comment\\\": \\\"The original code was vulnerable to SQL injection because the username was directly embedded into the SQL query. This change uses a parameterized query, which passes the username as a separate parameter, preventing malicious SQL code from being executed.\\\"\\n    }\\n  ],\\n  \\\"comment\\\": \\\"Fixed one SQL injection vulnerability by using parameterized queries, which significantly improves the application's security.\\\"\\n}\"}],\"role\":\"model\"},\"usageMetadata\":{\"candidatesTokenCount\":150,\"candidatesTokensDetails\":[{\"modality\":\"TEXT\",\"tokenCount\":150}],\"promptTokenCount\":2074,\"promptTokensDetails\":[{\"modality\":\"TEXT\",\"tokenCount\":2074}],\"totalTokenCount\":2224,\"trafficType\":\"ON_DEMAND\"},\"invocationId\":\"e-ae273486-7365-4d00-9477-d04cf8d709bb\",\"author\":\"VulnerabilityFixerAgent\",\"actions\":{\"stateDelta\":{\"fixed_code_patches\":{\"patches\":[{\"file\":\"main.py\",\"position\":30,\"patch\":\"```suggestion\\n    query = \\\"SELECT * FROM users WHERE username = ?\\\"\\n    await cursor.execute(query, (username,))\\n```\",\"comment\":\"The original code was vulnerable to SQL injection because the username was directly embedded into the SQL query. This change uses a parameterized query, which passes the username as a separate parameter, preventing malicious SQL code from being executed.\"}],\"comment\":\"Fixed one SQL injection vulnerability by using parameterized queries, which significantly improves the application's security.\"}},\"artifactDelta\":{},\"requestedAuthConfigs\":{}},\"id\":\"aQ74sx24\",\"timestamp\":1749834360.85821},{\"content\":{\"parts\":[{\"text\":\"{\\n  \\\"test_file_path\\\": \\\"tests/test_security_sql_injection.py\\\",\\n  \\\"test_code\\\": \\\"```python\\\\nimport pytest\\\\nimport aiosqlite\\\\nfrom fastapi.testclient import TestClient\\\\nfrom main import app\\\\n\\\\n@pytest.fixture\\\\nasync def db():\\\\n    async with aiosqlite.connect(':memory:') as db:\\\\n        cursor = await db.cursor()\\\\n        await cursor.execute('''\\\\n            CREATE TABLE IF NOT EXISTS users (\\\\n                username TEXT PRIMARY KEY,\\\\n                email TEXT\\\\n            )\\\\n        ''')\\\\n        await cursor.execute(\\\\\\\"INSERT INTO users (username, email) VALUES ('alice', 'alice@example.com')\\\\\\\")\\\\n        await db.commit()\\\\n        yield db\\\\n\\\\n@pytest.fixture\\\\ndef client(db):\\\\n    app.lifespan_context_dependency_cache = {}.\\\\n    client = TestClient(app)\\\\n    return client\\\\n\\\\n\\\\nasync def get_user_from_db(db, username):\\\\n    cursor = await db.cursor()\\\\n    await cursor.execute(\\\\\\\"SELECT * FROM users WHERE username = ?\\\\\\\", (username,)) # Use parameterized query here too to avoid injection in the test itself\\\\n    user = await cursor.fetchone()\\\\n    return user\\\\n\\\\n\\\\n@pytest.mark.asyncio\\\\nasync def test_sql_injection_attempt(db, client):\\\\n    # Simulate a SQL injection attack by injecting malicious code in the username.\\\\n    # This test verifies that the parameterized query prevents the injected code from being executed.\\\\n    username = \\\\\\\"' OR 1=1; -- \\\\\\\"\\\\n    response = client.get(f\\\\\\\"/users/{username}\\\\\\\")\\\\n    assert response.status_code == 404 # Expecting a 404 because the injected username won't match a valid user, or a valid error based on your error handling\\\\n\\\\n    # Verify that the database state remains unchanged after the injection attempt.\\\\n    user = await get_user_from_db(db, 'alice')\\\\n    assert user[1] == 'alice@example.com'\\\\n\\\\n\\\\n@pytest.mark.asyncio\\\\nasync def test_valid_username(db, client):\\\\n    # Test with a valid username to ensure the endpoint works as expected.\\\\n    response = client.get(\\\\\\\"/users/alice\\\\\\\")\\\\n    assert response.status_code == 200\\\\n    assert response.json() == {\\\\\\\"username\\\\\\\": \\\\\\\"alice\\\\\\\", \\\\\\\"email\\\\\\\": \\\\\\\"alice@example.com\\\\\\\"}\\\\n\\\\n@pytest.mark.asyncio\\\\nasync def test_nonexistent_user(db, client):\\\\n    # Test with a username that does not exist in the database.\\\\n    username = 'nonexistent'\\\\n    response = client.get(f\\\\\\\"/users/{username}\\\\\\\")\\\\n    assert response.status_code == 404 or response.json().get('error') == 'User not found'\\\\n\\\\n\\\\n@pytest.mark.asyncio\\\\nasync def test_sql_injection_no_results(db, client):\\\\n    # Attempt a SQL injection that would normally return no results, but might cause an error if not properly handled.\\\\n    username = \\\\\\\"' AND username='nonexistent\\\\\\\" # Injected payload\\\\n    response = client.get(f\\\\\\\"/users/{username}\\\\\\\")\\\\n\\\\n    # Validate the response.\\\\n    assert response.status_code == 404 or response.json().get('error') == 'User not found'\\\\n\\\\n    # Verify that no unintended changes occurred in the database.\\\\n    user = await get_user_from_db(db, 'alice')\\\\n    assert user[1] == 'alice@example.com'\\\\n\\\\n\\\",\\n  \\\"explanation\\\": \\\"These tests verify that the fix for SQL injection is effective. `test_sql_injection_attempt` attempts to inject SQL code into the username parameter. `test_valid_username` checks the normal case. `test_nonexistent_user` checks handling of non existent users. `test_sql_injection_no_results` attempts an injection which may cause an error if the parameters are not correctly handled.\\\"\\n}\"}],\"role\":\"model\"},\"usageMetadata\":{\"candidatesTokenCount\":947,\"candidatesTokensDetails\":[{\"modality\":\"TEXT\",\"tokenCount\":947}],\"promptTokenCount\":2444,\"promptTokensDetails\":[{\"modality\":\"TEXT\",\"tokenCount\":2444}],\"totalTokenCount\":3391,\"trafficType\":\"ON_DEMAND\"},\"invocationId\":\"e-ae273486-7365-4d00-9477-d04cf8d709bb\",\"author\":\"PentesterAgent\",\"actions\":{\"stateDelta\":{\"pen_tests\":{\"test_file_path\":\"tests/test_security_sql_injection.py\",\"test_code\":\"```python\\nimport pytest\\nimport aiosqlite\\nfrom fastapi.testclient import TestClient\\nfrom main import app\\n\\n@pytest.fixture\\nasync def db():\\n    async with aiosqlite.connect(':memory:') as db:\\n        cursor = await db.cursor()\\n        await cursor.execute('''\\n            CREATE TABLE IF NOT EXISTS users (\\n                username TEXT PRIMARY KEY,\\n                email TEXT\\n            )\\n        ''')\\n        await cursor.execute(\\\"INSERT INTO users (username, email) VALUES ('alice', 'alice@example.com')\\\")\\n        await db.commit()\\n        yield db\\n\\n@pytest.fixture\\ndef client(db):\\n    app.lifespan_context_dependency_cache = {}.\\n    client = TestClient(app)\\n    return client\\n\\n\\nasync def get_user_from_db(db, username):\\n    cursor = await db.cursor()\\n    await cursor.execute(\\\"SELECT * FROM users WHERE username = ?\\\", (username,)) # Use parameterized query here too to avoid injection in the test itself\\n    user = await cursor.fetchone()\\n    return user\\n\\n\\n@pytest.mark.asyncio\\nasync def test_sql_injection_attempt(db, client):\\n    # Simulate a SQL injection attack by injecting malicious code in the username.\\n    # This test verifies that the parameterized query prevents the injected code from being executed.\\n    username = \\\"' OR 1=1; -- \\\"\\n    response = client.get(f\\\"/users/{username}\\\")\\n    assert response.status_code == 404 # Expecting a 404 because the injected username won't match a valid user, or a valid error based on your error handling\\n\\n    # Verify that the database state remains unchanged after the injection attempt.\\n    user = await get_user_from_db(db, 'alice')\\n    assert user[1] == 'alice@example.com'\\n\\n\\n@pytest.mark.asyncio\\nasync def test_valid_username(db, client):\\n    # Test with a valid username to ensure the endpoint works as expected.\\n    response = client.get(\\\"/users/alice\\\")\\n    assert response.status_code == 200\\n    assert response.json() == {\\\"username\\\": \\\"alice\\\", \\\"email\\\": \\\"alice@example.com\\\"}\\n\\n@pytest.mark.asyncio\\nasync def test_nonexistent_user(db, client):\\n    # Test with a username that does not exist in the database.\\n    username = 'nonexistent'\\n    response = client.get(f\\\"/users/{username}\\\")\\n    assert response.status_code == 404 or response.json().get('error') == 'User not found'\\n\\n\\n@pytest.mark.asyncio\\nasync def test_sql_injection_no_results(db, client):\\n    # Attempt a SQL injection that would normally return no results, but might cause an error if not properly handled.\\n    username = \\\"' AND username='nonexistent\\\" # Injected payload\\n    response = client.get(f\\\"/users/{username}\\\")\\n\\n    # Validate the response.\\n    assert response.status_code == 404 or response.json().get('error') == 'User not found'\\n\\n    # Verify that no unintended changes occurred in the database.\\n    user = await get_user_from_db(db, 'alice')\\n    assert user[1] == 'alice@example.com'\\n\\n\",\"explanation\":\"These tests verify that the fix for SQL injection is effective. `test_sql_injection_attempt` attempts to inject SQL code into the username parameter. `test_valid_username` checks the normal case. `test_nonexistent_user` checks handling of non existent users. `test_sql_injection_no_results` attempts an injection which may cause an error if the parameters are not correctly handled.\"}},\"artifactDelta\":{},\"requestedAuthConfigs\":{}},\"id\":\"0iiqIFuH\",\"timestamp\":1749834365.780574}]\n"
     ]
    }
   ],
   "source": [
    "message_data = {\n",
    "    \"app_name\": \"app\",\n",
    "    \"user_id\": user_id,\n",
    "    \"session_id\": session_id,\n",
    "    \"new_message\": {\n",
    "        \"role\": \"user\",\n",
    "        \"parts\": [{\"text\": \"Review PR code changes according to your instructions.\"}],\n",
    "    },\n",
    "    \"streaming\": False,\n",
    "}\n",
    "\n",
    "message_url = \"http://127.0.0.1:8000/run\"\n",
    "message_response = requests.post(\n",
    "    message_url, headers=headers, json=message_data, stream=False\n",
    ")\n",
    "\n",
    "print(f\"Message send status code: {message_response.status_code}\")\n",
    "print(message_response.text)"
   ]
  }
 ],
 "metadata": {
  "kernelspec": {
   "display_name": ".venv",
   "language": "python",
   "name": "python3"
  },
  "language_info": {
   "codemirror_mode": {
    "name": "ipython",
    "version": 3
   },
   "file_extension": ".py",
   "mimetype": "text/x-python",
   "name": "python",
   "nbconvert_exporter": "python",
   "pygments_lexer": "ipython3",
   "version": "3.11.6"
  }
 },
 "nbformat": 4,
 "nbformat_minor": 2
}
