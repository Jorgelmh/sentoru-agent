{
 "cells": [
  {
   "cell_type": "markdown",
   "metadata": {},
   "source": [
    "# ADK Application Testing\n",
    "\n",
    "This notebook demonstrates how to test an ADK (Agent Development Kit) application.\n",
    "It covers both local and remote testing, both with Agent Engine and Cloud Run.\n",
    "\n",
    "<img src=\"https://github.com/GoogleCloudPlatform/agent-starter-pack/blob/main/docs/images/adk_logo.png?raw=true\" width=\"400\">\n"
   ]
  },
  {
   "cell_type": "markdown",
   "metadata": {},
   "source": [
    "## Install dependencies"
   ]
  },
  {
   "cell_type": "code",
   "execution_count": null,
   "metadata": {},
   "outputs": [],
   "source": [
    "!pip install google-cloud-aiplatform --upgrade"
   ]
  },
  {
   "cell_type": "markdown",
   "metadata": {},
   "source": [
    "### Import libraries"
   ]
  },
  {
   "cell_type": "code",
   "execution_count": 1,
   "metadata": {},
   "outputs": [],
   "source": [
    "import json\n",
    "from pathlib import Path\n",
    "import requests"
   ]
  },
  {
   "cell_type": "markdown",
   "metadata": {},
   "source": [
    "## If you are using Agent Engine\n",
    "See more documentation at [Agent Engine Overview](https://cloud.google.com/vertex-ai/generative-ai/docs/agent-engine/overview)"
   ]
  },
  {
   "cell_type": "markdown",
   "metadata": {},
   "source": [
    "### Remote Testing"
   ]
  },
  {
   "cell_type": "code",
   "execution_count": 4,
   "metadata": {},
   "outputs": [],
   "source": [
    "# Replace with your Agent Engine ID\n",
    "AGENT_ENGINE_ID = \"projects/PROJECT_ID/locations/us-central1/reasoningEngines/ENGINE_ID\""
   ]
  },
  {
   "cell_type": "code",
   "execution_count": 5,
   "metadata": {},
   "outputs": [],
   "source": [
    "remote_agent_engine = vertexai.agent_engines.get(AGENT_ENGINE_ID)"
   ]
  },
  {
   "cell_type": "code",
   "execution_count": null,
   "metadata": {},
   "outputs": [],
   "source": [
    "for event in remote_agent_engine.stream_query(message=\"hi!\", user_id=\"test\"):\n",
    "    print(event)"
   ]
  },
  {
   "cell_type": "code",
   "execution_count": null,
   "metadata": {},
   "outputs": [],
   "source": [
    "remote_agent_engine.register_feedback(\n",
    "    feedback={\n",
    "        \"score\": 5,\n",
    "        \"text\": \"Great response!\",\n",
    "        \"invocation_id\": \"test-invocation-123\",\n",
    "        \"user_id\": \"test\",\n",
    "    }\n",
    ")"
   ]
  },
  {
   "cell_type": "markdown",
   "metadata": {},
   "source": [
    "### Local Testing\n",
    "\n",
    "You can import directly the AgentEngineApp class within your environment. \n",
    "To run the agent locally, follow these steps:\n",
    "1. Make sure all required packages are installed in your environment\n",
    "2. The recommended approach is to use the same virtual environment created by the 'uv' tool\n",
    "3. You can set up this environment by running 'make install' from your agent's root directory\n",
    "4. Then select this kernel (.venv folder in your project) in your Jupyter notebook to ensure all dependencies are available"
   ]
  },
  {
   "cell_type": "code",
   "execution_count": null,
   "metadata": {},
   "outputs": [],
   "source": [
    "from app.agent import root_agent\n",
    "from app.agent_engine_app import AgentEngineApp\n",
    "\n",
    "agent_engine = AgentEngineApp(agent=root_agent)"
   ]
  },
  {
   "cell_type": "code",
   "execution_count": null,
   "metadata": {},
   "outputs": [],
   "source": [
    "agent_response = agent_engine.query(message=\"hi!\", user_id=\"test\")"
   ]
  },
  {
   "cell_type": "markdown",
   "metadata": {},
   "source": [
    "### Local Testing\n",
    "\n",
    "> You can run the application locally via the `make backend` command."
   ]
  },
  {
   "cell_type": "markdown",
   "metadata": {},
   "source": [
    "#### Create a session\n",
    " Create a new session with user preferences and state information\n"
   ]
  },
  {
   "cell_type": "code",
   "execution_count": 16,
   "metadata": {},
   "outputs": [
    {
     "name": "stdout",
     "output_type": "stream",
     "text": [
      "Session creation status code: {\"id\":\"test_session_456\",\"appName\":\"app\",\"userId\":\"test_user_123\",\"state\":{\"state\":{\"preferred_language\":\"English\",\"visit_count\":1},\"git_diff\":\"diff --git a/main.py b/main.py\\nindex 062670c..eac224e 100644\\n--- a/main.py\\n+++ b/main.py\\n@@ -1,7 +1,42 @@\\n from fastapi import FastAPI\\n+from contextlib import asynccontextmanager\\n+import aiosqlite\\n\\n-app = FastAPI()\\n+@asynccontextmanager\\n+async def lifespan(app: FastAPI):\\n+    # Create and connect to the database\\n+    db = await aiosqlite.connect('users.db')\\n+    cursor = await db.cursor()\\n+    await cursor.execute('''\\n+        CREATE TABLE IF NOT EXISTS users (\\n+            username TEXT PRIMARY KEY,\\n+            email TEXT\\n+        )\\n+    ''')\\n+    await cursor.execute(\\\"INSERT OR IGNORE INTO users (username, email) VALUES ('alice', 'alice@example.com')\\\")\\n+    await cursor.execute(\\\"INSERT OR IGNORE INTO users (username, email) VALUES ('bob', 'bob@example.com')\\\")\\n+    await db.commit()\\n+    await db.close()\\n+    yield\\n+\\n+app = FastAPI(lifespan=lifespan)\\n\\n @app.get(\\\"/\\\")\\n def read_root():\\n-    return {\\\"Hello\\\": \\\"World\\\"}\\n\\\\ No newline at end of file\\n+    return {\\\"Hello\\\": \\\"World\\\"}\\n+\\n+@app.get(\\\"/users/{username}\\\")\\n+async def get_user(username: str):\\n+    db = await aiosqlite.connect('users.db')\\n+    cursor = await db.cursor()\\n+\\n+    query = f\\\"SELECT * FROM users WHERE username = '{username}'\\\"\\n+\\n+    await cursor.execute(query)\\n+    user = await cursor.fetchone()\\n+    await db.close()\\n+\\n+    if user:\\n+        return {\\\"username\\\": user[0], \\\"email\\\": user[1]}\\n+    else:\\n+        return {\\\"error\\\": \\\"User not found\\\"}\"},\"events\":[],\"lastUpdateTime\":1749500977.8623447}\n"
     ]
    }
   ],
   "source": [
    "with open(\"../tests/samples/diff.txt\", \"r\") as f:\n",
    "    git_diff = f.read()\n",
    "\n",
    "user_id = \"test_user_123\"\n",
    "session_id = \"test_session_456\"\n",
    "session_data = {\"state\": {\"preferred_language\": \"English\", \"visit_count\": 1}, \"git_diff\": git_diff}\n",
    "\n",
    "session_url = f\"http://127.0.0.1:8000/apps/app/users/{user_id}/sessions/{session_id}\"\n",
    "headers = {\"Content-Type\": \"application/json\"}\n",
    "\n",
    "session_response = requests.post(session_url, headers=headers, json=session_data)\n",
    "print(f\"Session creation status code: {session_response.text}\")"
   ]
  },
  {
   "cell_type": "markdown",
   "metadata": {},
   "source": [
    "#### Send a message\n",
    "Send a message to the backend service and receive a streaming response\n"
   ]
  },
  {
   "cell_type": "code",
   "execution_count": 17,
   "metadata": {},
   "outputs": [
    {
     "name": "stdout",
     "output_type": "stream",
     "text": [
      "Message send status code: 200\n",
      "[{\"content\":{\"parts\":[{\"text\":\"Okay, I will review the code changes in `main.py` and identify potential security vulnerabilities.\\n\\n**Code Change Summary:**\\n\\nThe code introduces a FastAPI application with an SQLite database for storing user information. Here's a breakdown:\\n\\n*   **Database Initialization:** The `lifespan` context manager creates an SQLite database named `users.db` and a `users` table with `username` (primary key) and `email` columns if they don't exist. It also pre-populates the table with two users, 'alice' and 'bob'.\\n*   **User Retrieval Endpoint:** The `/users/{username}` endpoint retrieves user data from the database based on the provided username. It constructs an SQL query using an f-string to embed the username directly into the query. If a user is found, it returns the username and email; otherwise, it returns an error message.\\n\\n**Potential Vulnerabilities:**\\n\\nThe most significant potential vulnerability is in the `/users/{username}` endpoint due to the use of an f-string to construct the SQL query. This makes the application vulnerable to **SQL injection**. If an attacker provides a malicious username (e.g., `' OR 1=1 --`), they could potentially bypass authentication, retrieve sensitive data, modify data, or even execute arbitrary code on the server, depending on the database configuration and permissions.\\n\\nI'll now use the `get_rag_vulnerability_knowledge_tool` to retrieve relevant cybersecurity guidelines and best practices related to SQL injection.\\n\"},{\"functionCall\":{\"id\":\"adk-4295ae7a-2bdc-4583-ab4b-3b0a8f1b93ec\",\"args\":{\"packages\":[{\"name\":\"fastapi\",\"version\":\"\",\"ecosystem\":\"pypi\"},{\"ecosystem\":\"pypi\",\"name\":\"aiosqlite\",\"version\":\"\"}]},\"name\":\"check_package_security\"}}],\"role\":\"model\"},\"usageMetadata\":{\"candidatesTokenCount\":338,\"candidatesTokensDetails\":[{\"modality\":\"TEXT\",\"tokenCount\":338}],\"promptTokenCount\":934,\"promptTokensDetails\":[{\"modality\":\"TEXT\",\"tokenCount\":934}],\"totalTokenCount\":1272,\"trafficType\":\"ON_DEMAND\"},\"invocationId\":\"e-0fb8d03d-f38f-4064-8296-677bbb0021a8\",\"author\":\"AnalysisAgent\",\"actions\":{\"stateDelta\":{},\"artifactDelta\":{},\"requestedAuthConfigs\":{}},\"longRunningToolIds\":[],\"id\":\"BzPgH3ts\",\"timestamp\":1749500983.085591},{\"content\":{\"parts\":[{\"functionResponse\":{\"id\":\"adk-4295ae7a-2bdc-4583-ab4b-3b0a8f1b93ec\",\"name\":\"check_package_security\",\"response\":{\"result\":{\"content\":[{\"type\":\"text\",\"text\":\"{\\\"packages\\\": [{\\\"package\\\": \\\"fastapi\\\", \\\"current_version\\\": \\\"\\\", \\\"latest_version\\\": \\\"0.115.12\\\", \\\"latest_secure_version\\\": \\\"0.115.12\\\", \\\"is_secure\\\": false, \\\"ecosystem\\\": \\\"pypi\\\", \\\"message\\\": \\\"The latest secure version of fastapi is 0.115.12.\\\"}, {\\\"package\\\": \\\"aiosqlite\\\", \\\"current_version\\\": \\\"\\\", \\\"latest_version\\\": \\\"0.21.0\\\", \\\"latest_secure_version\\\": \\\"0.21.0\\\", \\\"is_secure\\\": false, \\\"ecosystem\\\": \\\"pypi\\\", \\\"message\\\": \\\"The latest secure version of aiosqlite is 0.21.0.\\\"}]}\"}],\"isError\":false}}}}],\"role\":\"user\"},\"invocationId\":\"e-0fb8d03d-f38f-4064-8296-677bbb0021a8\",\"author\":\"AnalysisAgent\",\"actions\":{\"stateDelta\":{},\"artifactDelta\":{},\"requestedAuthConfigs\":{}},\"id\":\"b6TETO2r\",\"timestamp\":1749500990.480207},{\"content\":{\"parts\":[{\"text\":\"**Vulnerability Analysis Report**\\n\\n**File:** `main.py`\\n\\n**Vulnerability:** SQL Injection\\n\\n**Location:** `/users/{username}` endpoint\\n\\n**Description:** The application is vulnerable to SQL injection because it uses an f-string to construct the SQL query in the `get_user` function. This allows an attacker to inject malicious SQL code into the query by providing a crafted username.\\n\\n**Example Attack Vector:**\\n\\nAn attacker could provide the following username: `' OR 1=1 --`\\n\\nThis would result in the following SQL query:\\n\\n```sql\\nSELECT * FROM users WHERE username = '' OR 1=1 --'\\n```\\n\\nThe `--` is a comment, so the query would effectively become:\\n\\n```sql\\nSELECT * FROM users WHERE username = '' OR 1=1\\n```\\n\\nThis query would return all users in the database, regardless of the username provided.\\n\\n**Recommended Mitigation:**\\n\\n1.  **Use parameterized queries:**  Parameterized queries (also known as prepared statements) are the most effective way to prevent SQL injection. Instead of embedding user input directly into the SQL query, you use placeholders that are later bound to the user input. This ensures that the user input is treated as data, not as executable code.\\n\\n    ```python\\n    query = \\\"SELECT * FROM users WHERE username = ?\\\"\\n    await cursor.execute(query, (username,))\\n    ```\\n\\n2.  **Input validation:** Sanitize user input by validating and escaping special characters that could be used in SQL injection attacks. However, input validation should not be the primary defense mechanism; parameterized queries should always be used.\\n\\n**Dependency Check:**\\n\\nThe `check_package_security` tool indicates that both `fastapi` and `aiosqlite` are not running the latest secure versions. It is recommended to upgrade to the latest versions to address any known vulnerabilities in those packages.\\n\\n**Recommendations:**\\n\\n1.  **Implement parameterized queries** in the `/users/{username}` endpoint to prevent SQL injection.\\n2.  **Upgrade** `fastapi` and `aiosqlite` to the latest secure versions.\\n\\nBy implementing these recommendations, the application will be significantly more secure.\"}],\"role\":\"model\"},\"usageMetadata\":{\"candidatesTokenCount\":460,\"candidatesTokensDetails\":[{\"modality\":\"TEXT\",\"tokenCount\":460}],\"promptTokenCount\":1451,\"promptTokensDetails\":[{\"modality\":\"TEXT\",\"tokenCount\":1451}],\"totalTokenCount\":1911,\"trafficType\":\"ON_DEMAND\"},\"invocationId\":\"e-0fb8d03d-f38f-4064-8296-677bbb0021a8\",\"author\":\"AnalysisAgent\",\"actions\":{\"stateDelta\":{\"analysis\":\"**Vulnerability Analysis Report**\\n\\n**File:** `main.py`\\n\\n**Vulnerability:** SQL Injection\\n\\n**Location:** `/users/{username}` endpoint\\n\\n**Description:** The application is vulnerable to SQL injection because it uses an f-string to construct the SQL query in the `get_user` function. This allows an attacker to inject malicious SQL code into the query by providing a crafted username.\\n\\n**Example Attack Vector:**\\n\\nAn attacker could provide the following username: `' OR 1=1 --`\\n\\nThis would result in the following SQL query:\\n\\n```sql\\nSELECT * FROM users WHERE username = '' OR 1=1 --'\\n```\\n\\nThe `--` is a comment, so the query would effectively become:\\n\\n```sql\\nSELECT * FROM users WHERE username = '' OR 1=1\\n```\\n\\nThis query would return all users in the database, regardless of the username provided.\\n\\n**Recommended Mitigation:**\\n\\n1.  **Use parameterized queries:**  Parameterized queries (also known as prepared statements) are the most effective way to prevent SQL injection. Instead of embedding user input directly into the SQL query, you use placeholders that are later bound to the user input. This ensures that the user input is treated as data, not as executable code.\\n\\n    ```python\\n    query = \\\"SELECT * FROM users WHERE username = ?\\\"\\n    await cursor.execute(query, (username,))\\n    ```\\n\\n2.  **Input validation:** Sanitize user input by validating and escaping special characters that could be used in SQL injection attacks. However, input validation should not be the primary defense mechanism; parameterized queries should always be used.\\n\\n**Dependency Check:**\\n\\nThe `check_package_security` tool indicates that both `fastapi` and `aiosqlite` are not running the latest secure versions. It is recommended to upgrade to the latest versions to address any known vulnerabilities in those packages.\\n\\n**Recommendations:**\\n\\n1.  **Implement parameterized queries** in the `/users/{username}` endpoint to prevent SQL injection.\\n2.  **Upgrade** `fastapi` and `aiosqlite` to the latest secure versions.\\n\\nBy implementing these recommendations, the application will be significantly more secure.\"},\"artifactDelta\":{},\"requestedAuthConfigs\":{}},\"id\":\"xGDYUwfE\",\"timestamp\":1749500990.606088},{\"content\":{\"parts\":[{\"text\":\"{\\n  \\\"patches\\\": [\\n    {\\n      \\\"file\\\": \\\"main.py\\\",\\n      \\\"position\\\": 24,\\n      \\\"patch\\\": \\\"```suggestion\\\\n    query = \\\\\\\"SELECT * FROM users WHERE username = ?\\\\\\\"\\\\n    await cursor.execute(query, (username,))\\\\n```\\\",\\n      \\\"comment\\\": \\\"The original code used an f-string to construct the SQL query, making it vulnerable to SQL injection. This change uses a parameterized query with a placeholder `?`, preventing malicious SQL code from being injected via the username.\\\"\\n    }\\n  ],\\n  \\\"comment\\\": \\\"Fixed one SQL injection vulnerability by implementing parameterized queries in the /users/{username} endpoint. This prevents attackers from injecting malicious SQL code.\\\"\\n}\"}],\"role\":\"model\"},\"usageMetadata\":{\"candidatesTokenCount\":159,\"candidatesTokensDetails\":[{\"modality\":\"TEXT\",\"tokenCount\":159}],\"promptTokenCount\":2414,\"promptTokensDetails\":[{\"modality\":\"TEXT\",\"tokenCount\":2414}],\"totalTokenCount\":2573,\"trafficType\":\"ON_DEMAND\"},\"invocationId\":\"e-0fb8d03d-f38f-4064-8296-677bbb0021a8\",\"author\":\"VulnerabilityFixerAgent\",\"actions\":{\"stateDelta\":{\"fixed_code_patches\":{\"patches\":[{\"file\":\"main.py\",\"position\":24,\"patch\":\"```suggestion\\n    query = \\\"SELECT * FROM users WHERE username = ?\\\"\\n    await cursor.execute(query, (username,))\\n```\",\"comment\":\"The original code used an f-string to construct the SQL query, making it vulnerable to SQL injection. This change uses a parameterized query with a placeholder `?`, preventing malicious SQL code from being injected via the username.\"}],\"comment\":\"Fixed one SQL injection vulnerability by implementing parameterized queries in the /users/{username} endpoint. This prevents attackers from injecting malicious SQL code.\"}},\"artifactDelta\":{},\"requestedAuthConfigs\":{}},\"id\":\"Db4TPiMD\",\"timestamp\":1749500996.978728},{\"content\":{\"parts\":[{\"text\":\"{\\n  \\\"file\\\": \\\"/tests/test_main.py\\\",\\n  \\\"position\\\": 0,\\n  \\\"patch\\\": \\\"```suggestion\\\\nimport pytest\\\\nimport aiosqlite\\\\nfrom fastapi.testclient import TestClient\\\\nfrom main import app\\\\n\\\\nDATABASE_URL = \\\\\\\"test_users.db\\\\\\\"\\\\n\\\\n@pytest.fixture\\\\nasync def test_db():\\\\n    async with aiosqlite.connect(DATABASE_URL) as db:\\\\n        await db.execute(\\\\\\\"\\\\\\\"\\\\\\\"\\\\n            CREATE TABLE IF NOT EXISTS users (\\\\n                username TEXT PRIMARY KEY,\\\\n                email TEXT\\\\n            )\\\\n        \\\\\\\"\\\\\\\"\\\\\\\")\\\\n        await db.execute(\\\\\\\"INSERT INTO users (username, email) VALUES (?, ?)\\\\\\\", ('alice', 'alice@example.com'))\\\\n        await db.execute(\\\\\\\"INSERT INTO users (username, email) VALUES (?, ?)\\\\\\\", ('bob', 'bob@example.com'))\\\\n        await db.commit()\\\\n\\\\n    yield\\\\n\\\\n    # Teardown: Remove the test database after the tests\\\\n    import os\\\\n    os.remove(DATABASE_URL)\\\\n\\\\n\\\\n@pytest.fixture\\\\ndef test_client():\\\\n    client = TestClient(app)\\\\n    return client\\\\n\\\\n\\\\n\\\\nasync def get_user_from_db(username: str):\\\\n    async with aiosqlite.connect(DATABASE_URL) as db:\\\\n        async with db.execute(\\\\\\\"SELECT * FROM users WHERE username = ?\\\\\\\", (username,)) as cursor:\\\\n            user = await cursor.fetchone()\\\\n            if user:\\\\n                return {\\\\\\\"username\\\\\\\": user[0], \\\\\\\"email\\\\\\\": user[1]}\\\\n            else:\\\\n                return None\\\\n\\\\n\\\\n\\\\n\\\\n\\\\n# Test cases\\\\n\\\\n\\\\n@pytest.mark.asyncio\\\\nasync def test_get_user_valid_username(test_db, test_client):\\\\n    # Test case 1: Valid username\\\\n    response = test_client.get(\\\\\\\"/users/alice\\\\\\\")\\\\n    assert response.status_code == 200\\\\n    assert response.json() == {\\\\\\\"username\\\\\\\": \\\\\\\"alice\\\\\\\", \\\\\\\"email\\\\\\\": \\\\\\\"alice@example.com\\\\\\\"}\\\\n\\\\n\\\\n@pytest.mark.asyncio\\\\nasync def test_get_user_invalid_username(test_db, test_client):\\\\n    # Test case 2: Invalid username\\\\n    response = test_client.get(\\\\\\\"/users/nonexistent\\\\\\\")\\\\n    assert response.status_code == 404\\\\n    assert response.json() == {\\\\\\\"detail\\\\\\\": \\\\\\\"User not found\\\\\\\"}\\\\n\\\\n\\\\n@pytest.mark.asyncio\\\\nasync def test_sql_injection_attempt_1(test_db, test_client):\\\\n    # Test case 3: SQL injection attempt with ' OR 1=1 --\\\\n    response = test_client.get(\\\\\\\"/users/' OR 1=1 --\\\\\\\")\\\\n    # The query should not return all users.  It should either return a 404 or no users\\\\n    assert response.status_code == 404 or response.status_code == 500 # Or other error code\\\\n\\\\n\\\\n@pytest.mark.asyncio\\\\nasync def test_sql_injection_attempt_2(test_db, test_client):\\\\n    # Test case 4: SQL injection attempt with a more complex payload\\\\n    response = test_client.get(\\\\\\\"/users/'; DROP TABLE users; --\\\\\\\")\\\\n    # The query should not drop the table. It should return 404 or some error\\\\n    assert response.status_code == 404 or response.status_code == 500 # Or other error code\\\\n\\\\n    #Verify the table still exists\\\\n    async with aiosqlite.connect(DATABASE_URL) as db:\\\\n        try:\\\\n            await db.execute(\\\\\\\"SELECT * FROM users\\\\\\\")\\\\n            await db.commit()\\\\n            table_exists = True\\\\n        except aiosqlite.OperationalError:\\\\n            table_exists = False\\\\n\\\\n    assert table_exists\\\\n\\\\n@pytest.mark.asyncio\\\\nasync def test_sql_injection_attempt_3(test_db, test_client):\\\\n    # Test case 5: SQL injection attempt with union select\\\\n    response = test_client.get(\\\\\\\"/users/test' UNION SELECT username, email FROM users WHERE username='alice'\\\\\\\")\\\\n    # The query should not return the unioned result.\\\\n    assert response.status_code == 404 or response.status_code == 500 # Or other error code\\\\n```\\\",\\n  \\\"comment\\\": \\\"This patch introduces a test suite to verify the fix for the SQL injection vulnerability. It includes tests for valid and invalid usernames, as well as three different SQL injection attempts. The tests ensure that the application returns the correct response for valid and invalid inputs and that the SQL injection attempts do not succeed in retrieving unauthorized data or modifying the database.\\\"\\n}\"}],\"role\":\"model\"},\"usageMetadata\":{\"candidatesTokenCount\":1142,\"candidatesTokensDetails\":[{\"modality\":\"TEXT\",\"tokenCount\":1142}],\"promptTokenCount\":2103,\"promptTokensDetails\":[{\"modality\":\"TEXT\",\"tokenCount\":2103}],\"totalTokenCount\":3245,\"trafficType\":\"ON_DEMAND\"},\"invocationId\":\"e-0fb8d03d-f38f-4064-8296-677bbb0021a8\",\"author\":\"PentesterAgent\",\"actions\":{\"stateDelta\":{\"tests\":{\"file\":\"/tests/test_main.py\",\"position\":0,\"patch\":\"```suggestion\\nimport pytest\\nimport aiosqlite\\nfrom fastapi.testclient import TestClient\\nfrom main import app\\n\\nDATABASE_URL = \\\"test_users.db\\\"\\n\\n@pytest.fixture\\nasync def test_db():\\n    async with aiosqlite.connect(DATABASE_URL) as db:\\n        await db.execute(\\\"\\\"\\\"\\n            CREATE TABLE IF NOT EXISTS users (\\n                username TEXT PRIMARY KEY,\\n                email TEXT\\n            )\\n        \\\"\\\"\\\")\\n        await db.execute(\\\"INSERT INTO users (username, email) VALUES (?, ?)\\\", ('alice', 'alice@example.com'))\\n        await db.execute(\\\"INSERT INTO users (username, email) VALUES (?, ?)\\\", ('bob', 'bob@example.com'))\\n        await db.commit()\\n\\n    yield\\n\\n    # Teardown: Remove the test database after the tests\\n    import os\\n    os.remove(DATABASE_URL)\\n\\n\\n@pytest.fixture\\ndef test_client():\\n    client = TestClient(app)\\n    return client\\n\\n\\n\\nasync def get_user_from_db(username: str):\\n    async with aiosqlite.connect(DATABASE_URL) as db:\\n        async with db.execute(\\\"SELECT * FROM users WHERE username = ?\\\", (username,)) as cursor:\\n            user = await cursor.fetchone()\\n            if user:\\n                return {\\\"username\\\": user[0], \\\"email\\\": user[1]}\\n            else:\\n                return None\\n\\n\\n\\n\\n\\n# Test cases\\n\\n\\n@pytest.mark.asyncio\\nasync def test_get_user_valid_username(test_db, test_client):\\n    # Test case 1: Valid username\\n    response = test_client.get(\\\"/users/alice\\\")\\n    assert response.status_code == 200\\n    assert response.json() == {\\\"username\\\": \\\"alice\\\", \\\"email\\\": \\\"alice@example.com\\\"}\\n\\n\\n@pytest.mark.asyncio\\nasync def test_get_user_invalid_username(test_db, test_client):\\n    # Test case 2: Invalid username\\n    response = test_client.get(\\\"/users/nonexistent\\\")\\n    assert response.status_code == 404\\n    assert response.json() == {\\\"detail\\\": \\\"User not found\\\"}\\n\\n\\n@pytest.mark.asyncio\\nasync def test_sql_injection_attempt_1(test_db, test_client):\\n    # Test case 3: SQL injection attempt with ' OR 1=1 --\\n    response = test_client.get(\\\"/users/' OR 1=1 --\\\")\\n    # The query should not return all users.  It should either return a 404 or no users\\n    assert response.status_code == 404 or response.status_code == 500 # Or other error code\\n\\n\\n@pytest.mark.asyncio\\nasync def test_sql_injection_attempt_2(test_db, test_client):\\n    # Test case 4: SQL injection attempt with a more complex payload\\n    response = test_client.get(\\\"/users/'; DROP TABLE users; --\\\")\\n    # The query should not drop the table. It should return 404 or some error\\n    assert response.status_code == 404 or response.status_code == 500 # Or other error code\\n\\n    #Verify the table still exists\\n    async with aiosqlite.connect(DATABASE_URL) as db:\\n        try:\\n            await db.execute(\\\"SELECT * FROM users\\\")\\n            await db.commit()\\n            table_exists = True\\n        except aiosqlite.OperationalError:\\n            table_exists = False\\n\\n    assert table_exists\\n\\n@pytest.mark.asyncio\\nasync def test_sql_injection_attempt_3(test_db, test_client):\\n    # Test case 5: SQL injection attempt with union select\\n    response = test_client.get(\\\"/users/test' UNION SELECT username, email FROM users WHERE username='alice'\\\")\\n    # The query should not return the unioned result.\\n    assert response.status_code == 404 or response.status_code == 500 # Or other error code\\n```\",\"comment\":\"This patch introduces a test suite to verify the fix for the SQL injection vulnerability. It includes tests for valid and invalid usernames, as well as three different SQL injection attempts. The tests ensure that the application returns the correct response for valid and invalid inputs and that the SQL injection attempts do not succeed in retrieving unauthorized data or modifying the database.\"}},\"artifactDelta\":{},\"requestedAuthConfigs\":{}},\"id\":\"28SMw2Hd\",\"timestamp\":1749501002.664208}]\n"
     ]
    }
   ],
   "source": [
    "message_data = {\n",
    "    \"app_name\": \"app\",\n",
    "    \"user_id\": user_id,\n",
    "    \"session_id\": session_id,\n",
    "    \"new_message\": {\"role\": \"user\", \"parts\": [{\"text\": \"Review PR code changes according to your instructions.\"}]},\n",
    "    \"streaming\": False,\n",
    "}\n",
    "\n",
    "message_url = \"http://127.0.0.1:8000/run\"\n",
    "message_response = requests.post(\n",
    "    message_url, headers=headers, json=message_data, stream=False\n",
    ")\n",
    "\n",
    "print(f\"Message send status code: {message_response.status_code}\")\n",
    "print(message_response.text)"
   ]
  }
 ],
 "metadata": {
  "kernelspec": {
   "display_name": ".venv",
   "language": "python",
   "name": "python3"
  },
  "language_info": {
   "codemirror_mode": {
    "name": "ipython",
    "version": 3
   },
   "file_extension": ".py",
   "mimetype": "text/x-python",
   "name": "python",
   "nbconvert_exporter": "python",
   "pygments_lexer": "ipython3",
   "version": "3.11.6"
  }
 },
 "nbformat": 4,
 "nbformat_minor": 2
}
