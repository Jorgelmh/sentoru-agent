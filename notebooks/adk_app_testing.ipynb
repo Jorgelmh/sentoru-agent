{
 "cells": [
  {
   "cell_type": "markdown",
   "metadata": {},
   "source": [
    "# ADK Application Testing\n",
    "\n",
    "This notebook demonstrates how to test an ADK (Agent Development Kit) application.\n",
    "It covers both local and remote testing, both with Agent Engine and Cloud Run.\n",
    "\n",
    "<img src=\"https://github.com/GoogleCloudPlatform/agent-starter-pack/blob/main/docs/images/adk_logo.png?raw=true\" width=\"400\">\n"
   ]
  },
  {
   "cell_type": "markdown",
   "metadata": {},
   "source": [
    "## Install dependencies"
   ]
  },
  {
   "cell_type": "code",
   "execution_count": null,
   "metadata": {},
   "outputs": [],
   "source": [
    "!pip install google-cloud-aiplatform --upgrade"
   ]
  },
  {
   "cell_type": "markdown",
   "metadata": {},
   "source": [
    "### Import libraries"
   ]
  },
  {
   "cell_type": "code",
   "execution_count": 1,
   "metadata": {},
   "outputs": [],
   "source": [
    "import json\n",
    "from pathlib import Path\n",
    "import requests"
   ]
  },
  {
   "cell_type": "markdown",
   "metadata": {},
   "source": [
    "## If you are using Agent Engine\n",
    "See more documentation at [Agent Engine Overview](https://cloud.google.com/vertex-ai/generative-ai/docs/agent-engine/overview)"
   ]
  },
  {
   "cell_type": "markdown",
   "metadata": {},
   "source": [
    "### Remote Testing"
   ]
  },
  {
   "cell_type": "code",
   "execution_count": 4,
   "metadata": {},
   "outputs": [],
   "source": [
    "# Replace with your Agent Engine ID\n",
    "AGENT_ENGINE_ID = \"projects/PROJECT_ID/locations/us-central1/reasoningEngines/ENGINE_ID\""
   ]
  },
  {
   "cell_type": "code",
   "execution_count": 5,
   "metadata": {},
   "outputs": [],
   "source": [
    "remote_agent_engine = vertexai.agent_engines.get(AGENT_ENGINE_ID)"
   ]
  },
  {
   "cell_type": "code",
   "execution_count": null,
   "metadata": {},
   "outputs": [],
   "source": [
    "for event in remote_agent_engine.stream_query(message=\"hi!\", user_id=\"test\"):\n",
    "    print(event)"
   ]
  },
  {
   "cell_type": "code",
   "execution_count": null,
   "metadata": {},
   "outputs": [],
   "source": [
    "remote_agent_engine.register_feedback(\n",
    "    feedback={\n",
    "        \"score\": 5,\n",
    "        \"text\": \"Great response!\",\n",
    "        \"invocation_id\": \"test-invocation-123\",\n",
    "        \"user_id\": \"test\",\n",
    "    }\n",
    ")"
   ]
  },
  {
   "cell_type": "markdown",
   "metadata": {},
   "source": [
    "### Local Testing\n",
    "\n",
    "You can import directly the AgentEngineApp class within your environment. \n",
    "To run the agent locally, follow these steps:\n",
    "1. Make sure all required packages are installed in your environment\n",
    "2. The recommended approach is to use the same virtual environment created by the 'uv' tool\n",
    "3. You can set up this environment by running 'make install' from your agent's root directory\n",
    "4. Then select this kernel (.venv folder in your project) in your Jupyter notebook to ensure all dependencies are available"
   ]
  },
  {
   "cell_type": "code",
   "execution_count": null,
   "metadata": {},
   "outputs": [],
   "source": [
    "from app.agent import root_agent\n",
    "from app.agent_engine_app import AgentEngineApp\n",
    "\n",
    "agent_engine = AgentEngineApp(agent=root_agent)"
   ]
  },
  {
   "cell_type": "code",
   "execution_count": null,
   "metadata": {},
   "outputs": [],
   "source": [
    "agent_response = agent_engine.query(message=\"hi!\", user_id=\"test\")"
   ]
  },
  {
   "cell_type": "markdown",
   "metadata": {},
   "source": [
    "### Local Testing\n",
    "\n",
    "> You can run the application locally via the `make backend` command."
   ]
  },
  {
   "cell_type": "markdown",
   "metadata": {},
   "source": [
    "#### Create a session\n",
    " Create a new session with user preferences and state information\n"
   ]
  },
  {
   "cell_type": "code",
   "execution_count": 10,
   "metadata": {},
   "outputs": [
    {
     "name": "stdout",
     "output_type": "stream",
     "text": [
      "Session creation status code: {\"id\":\"test_session_456\",\"appName\":\"app\",\"userId\":\"test_user_123\",\"state\":{\"state\":{\"preferred_language\":\"English\",\"visit_count\":1},\"git_diff\":\"diff --git a/main.py b/main.py\\nindex 062670c..eac224e 100644\\n--- a/main.py\\n+++ b/main.py\\n@@ -1,7 +1,42 @@\\n from fastapi import FastAPI\\n+from contextlib import asynccontextmanager\\n+import aiosqlite\\n\\n-app = FastAPI()\\n+@asynccontextmanager\\n+async def lifespan(app: FastAPI):\\n+    # Create and connect to the database\\n+    db = await aiosqlite.connect('users.db')\\n+    cursor = await db.cursor()\\n+    await cursor.execute('''\\n+        CREATE TABLE IF NOT EXISTS users (\\n+            username TEXT PRIMARY KEY,\\n+            email TEXT\\n+        )\\n+    ''')\\n+    await cursor.execute(\\\"INSERT OR IGNORE INTO users (username, email) VALUES ('alice', 'alice@example.com')\\\")\\n+    await cursor.execute(\\\"INSERT OR IGNORE INTO users (username, email) VALUES ('bob', 'bob@example.com')\\\")\\n+    await db.commit()\\n+    await db.close()\\n+    yield\\n+\\n+app = FastAPI(lifespan=lifespan)\\n\\n @app.get(\\\"/\\\")\\n def read_root():\\n-    return {\\\"Hello\\\": \\\"World\\\"}\\n\\\\ No newline at end of file\\n+    return {\\\"Hello\\\": \\\"World\\\"}\\n+\\n+@app.get(\\\"/users/{username}\\\")\\n+async def get_user(username: str):\\n+    db = await aiosqlite.connect('users.db')\\n+    cursor = await db.cursor()\\n+\\n+    query = f\\\"SELECT * FROM users WHERE username = '{username}'\\\"\\n+\\n+    await cursor.execute(query)\\n+    user = await cursor.fetchone()\\n+    await db.close()\\n+\\n+    if user:\\n+        return {\\\"username\\\": user[0], \\\"email\\\": user[1]}\\n+    else:\\n+        return {\\\"error\\\": \\\"User not found\\\"}\\n\\n--- a/requirements.txt\\n+++ b/requirements.txt\\n@@ -0,0 +1 @@\\n+jinja2==3.1.4 \"},\"events\":[],\"lastUpdateTime\":1749498285.6867125}\n"
     ]
    }
   ],
   "source": [
    "with open(\"../tests/samples/diff.txt\", \"r\") as f:\n",
    "    git_diff = f.read()\n",
    "\n",
    "user_id = \"test_user_123\"\n",
    "session_id = \"test_session_456\"\n",
    "session_data = {\"state\": {\"preferred_language\": \"English\", \"visit_count\": 1}, \"git_diff\": git_diff}\n",
    "\n",
    "session_url = f\"http://127.0.0.1:8000/apps/app/users/{user_id}/sessions/{session_id}\"\n",
    "headers = {\"Content-Type\": \"application/json\"}\n",
    "\n",
    "session_response = requests.post(session_url, headers=headers, json=session_data)\n",
    "print(f\"Session creation status code: {session_response.text}\")"
   ]
  },
  {
   "cell_type": "markdown",
   "metadata": {},
   "source": [
    "#### Send a message\n",
    "Send a message to the backend service and receive a streaming response\n"
   ]
  },
  {
   "cell_type": "code",
   "execution_count": 11,
   "metadata": {},
   "outputs": [
    {
     "name": "stdout",
     "output_type": "stream",
     "text": [
      "Message send status code: 200\n",
      "[{\"content\":{\"parts\":[{\"text\":\"Okay, I will review the code changes and identify potential security vulnerabilities.\\n\\n**1. Analyze Code Changes:**\\n\\nThe code introduces a FastAPI application with an SQLite database for storing user information. It includes the following changes:\\n\\n*   **Database Initialization:** Uses `aiosqlite` to create a database `users.db` and a table `users` with `username` (PRIMARY KEY) and `email` columns. It also inserts two initial users, 'alice' and 'bob'. This initialization happens within a lifespan context manager.\\n*   **User Retrieval Endpoint:** A new endpoint `/users/{username}` is added to retrieve user information based on the provided username. It constructs an SQL query using an f-string to select the user from the database.\\n\\n**2. Consult Knowledge Base:**\\n\\nI will now describe the code changes to the `get_rag_vulnerability_knowledge_tool` (which is not available) to find relevant cybersecurity guidelines and best practices.\\n\\n**3. Check Dependencies:**\\n\\nThe `requirements.txt` file adds `jinja2==3.1.4`. I will use the `get_safety_API_tool` to check for known vulnerabilities in this package.\\n\\n\"},{\"functionCall\":{\"id\":\"adk-b1deb708-a7b1-46af-9551-4f477cad4e5f\",\"args\":{\"packages\":[{\"name\":\"jinja2\",\"ecosystem\":\"pypi\",\"version\":\"3.1.4\"}]},\"name\":\"check_package_security\"}}],\"role\":\"model\"},\"usageMetadata\":{\"candidatesTokenCount\":271,\"candidatesTokensDetails\":[{\"modality\":\"TEXT\",\"tokenCount\":271}],\"promptTokenCount\":969,\"promptTokensDetails\":[{\"modality\":\"TEXT\",\"tokenCount\":969}],\"totalTokenCount\":1240,\"trafficType\":\"ON_DEMAND\"},\"invocationId\":\"e-94c15969-a8ed-437f-a1b9-a6f0f7b71ec3\",\"author\":\"AnalysisAgent\",\"actions\":{\"stateDelta\":{},\"artifactDelta\":{},\"requestedAuthConfigs\":{}},\"longRunningToolIds\":[],\"id\":\"kB3VnsGb\",\"timestamp\":1749498291.514331},{\"content\":{\"parts\":[{\"functionResponse\":{\"id\":\"adk-b1deb708-a7b1-46af-9551-4f477cad4e5f\",\"name\":\"check_package_security\",\"response\":{\"result\":{\"content\":[{\"type\":\"text\",\"text\":\"{\\\"packages\\\": [{\\\"package\\\": \\\"jinja2\\\", \\\"current_version\\\": \\\"3.1.4\\\", \\\"latest_version\\\": \\\"3.1.6\\\", \\\"latest_secure_version\\\": \\\"3.1.6\\\", \\\"is_secure\\\": false, \\\"ecosystem\\\": \\\"pypi\\\", \\\"latest_secure_same_major\\\": \\\"3.1.6\\\", \\\"message\\\": \\\"Version 3.1.4 of jinja2 is insecure. The latest secure version is 3.1.6.\\\"}]}\"}],\"isError\":false}}}}],\"role\":\"user\"},\"invocationId\":\"e-94c15969-a8ed-437f-a1b9-a6f0f7b71ec3\",\"author\":\"AnalysisAgent\",\"actions\":{\"stateDelta\":{},\"artifactDelta\":{},\"requestedAuthConfigs\":{}},\"id\":\"ehQqhIp4\",\"timestamp\":1749498297.56511},{\"content\":{\"parts\":[{\"text\":\"**4. Synthesize Findings:**\\n\\n*   **SQL Injection Vulnerability:** The `/users/{username}` endpoint is vulnerable to SQL injection. The `username` variable is directly incorporated into the SQL query using an f-string without any sanitization or parameterization. A malicious user could inject SQL code through the username parameter, potentially allowing them to read, modify, or delete data in the database.\\n*   **Dependency Vulnerability:** The `jinja2` package has a security vulnerability. The current version is `3.1.4` while the latest secure version is `3.1.6`.\\n\\n**Recommendations:**\\n\\n*   **SQL Injection Prevention:**\\n    *   **Use parameterized queries:** Instead of using f-strings to build the SQL query, use parameterized queries with placeholders. This allows the database driver to properly escape and sanitize the input, preventing SQL injection.\\n*   **Update Dependencies:**\\n    *   Update the `jinja2` package to the latest secure version (`3.1.6`) by changing `requirements.txt` and running `pip install -r requirements.txt`.\\n\"}],\"role\":\"model\"},\"usageMetadata\":{\"candidatesTokenCount\":230,\"candidatesTokensDetails\":[{\"modality\":\"TEXT\",\"tokenCount\":230}],\"promptTokenCount\":1364,\"promptTokensDetails\":[{\"modality\":\"TEXT\",\"tokenCount\":1364}],\"totalTokenCount\":1594,\"trafficType\":\"ON_DEMAND\"},\"invocationId\":\"e-94c15969-a8ed-437f-a1b9-a6f0f7b71ec3\",\"author\":\"AnalysisAgent\",\"actions\":{\"stateDelta\":{\"analysis\":\"**4. Synthesize Findings:**\\n\\n*   **SQL Injection Vulnerability:** The `/users/{username}` endpoint is vulnerable to SQL injection. The `username` variable is directly incorporated into the SQL query using an f-string without any sanitization or parameterization. A malicious user could inject SQL code through the username parameter, potentially allowing them to read, modify, or delete data in the database.\\n*   **Dependency Vulnerability:** The `jinja2` package has a security vulnerability. The current version is `3.1.4` while the latest secure version is `3.1.6`.\\n\\n**Recommendations:**\\n\\n*   **SQL Injection Prevention:**\\n    *   **Use parameterized queries:** Instead of using f-strings to build the SQL query, use parameterized queries with placeholders. This allows the database driver to properly escape and sanitize the input, preventing SQL injection.\\n*   **Update Dependencies:**\\n    *   Update the `jinja2` package to the latest secure version (`3.1.6`) by changing `requirements.txt` and running `pip install -r requirements.txt`.\\n\"},\"artifactDelta\":{},\"requestedAuthConfigs\":{}},\"id\":\"A7NgbmPy\",\"timestamp\":1749498297.697935},{\"content\":{\"parts\":[{\"text\":\"{\\n  \\\"patches\\\": [\\n    {\\n      \\\"file\\\": \\\"main.py\\\",\\n      \\\"position\\\": 21,\\n      \\\"patch\\\": \\\"```suggestion\\\\n    db = await aiosqlite.connect('users.db')\\\\n    cursor = await db.cursor()\\\\n\\\\n    query = \\\\\\\"SELECT * FROM users WHERE username = ?\\\\\\\"\\\\n    await cursor.execute(query, (username,))\\\\n    user = await cursor.fetchone()\\\\n    await db.close()\\\\n```\\\",\\n      \\\"comment\\\": \\\"The original code was vulnerable to SQL injection because it used an f-string to construct the SQL query, directly embedding the `username` variable without sanitization. This patch replaces the f-string with a parameterized query using a placeholder `?`. The `username` is passed as a tuple to the `execute` method, which properly escapes the input and prevents SQL injection.\\\"\\n    },\\n    {\\n      \\\"file\\\": \\\"requirements.txt\\\",\\n      \\\"position\\\": 0,\\n      \\\"patch\\\": \\\"```suggestion\\\\njinja2==3.1.6\\\\n```\\\",\\n      \\\"comment\\\": \\\"The original code specified an insecure version of the `jinja2` package. This patch updates the version to `3.1.6`, which is the latest secure version, mitigating the identified dependency vulnerability.\\\"\\n    }\\n  ],\\n  \\\"comment\\\": \\\"Two vulnerabilities were fixed: a SQL injection vulnerability in the `/users/{username}` endpoint and an insecure dependency (`jinja2`). Parameterized queries were implemented to prevent SQL injection, and the `jinja2` dependency was updated to the latest secure version, enhancing the application's overall security.\\\"\\n}\"}],\"role\":\"model\"},\"usageMetadata\":{\"candidatesTokenCount\":362,\"candidatesTokensDetails\":[{\"modality\":\"TEXT\",\"tokenCount\":362}],\"promptTokenCount\":1856,\"promptTokensDetails\":[{\"modality\":\"TEXT\",\"tokenCount\":1856}],\"totalTokenCount\":2218,\"trafficType\":\"ON_DEMAND\"},\"invocationId\":\"e-94c15969-a8ed-437f-a1b9-a6f0f7b71ec3\",\"author\":\"VulnerabilityFixerAgent\",\"actions\":{\"stateDelta\":{\"fixed_code_patches\":{\"patches\":[{\"file\":\"main.py\",\"position\":21,\"patch\":\"```suggestion\\n    db = await aiosqlite.connect('users.db')\\n    cursor = await db.cursor()\\n\\n    query = \\\"SELECT * FROM users WHERE username = ?\\\"\\n    await cursor.execute(query, (username,))\\n    user = await cursor.fetchone()\\n    await db.close()\\n```\",\"comment\":\"The original code was vulnerable to SQL injection because it used an f-string to construct the SQL query, directly embedding the `username` variable without sanitization. This patch replaces the f-string with a parameterized query using a placeholder `?`. The `username` is passed as a tuple to the `execute` method, which properly escapes the input and prevents SQL injection.\"},{\"file\":\"requirements.txt\",\"position\":0,\"patch\":\"```suggestion\\njinja2==3.1.6\\n```\",\"comment\":\"The original code specified an insecure version of the `jinja2` package. This patch updates the version to `3.1.6`, which is the latest secure version, mitigating the identified dependency vulnerability.\"}],\"comment\":\"Two vulnerabilities were fixed: a SQL injection vulnerability in the `/users/{username}` endpoint and an insecure dependency (`jinja2`). Parameterized queries were implemented to prevent SQL injection, and the `jinja2` dependency was updated to the latest secure version, enhancing the application's overall security.\"}},\"artifactDelta\":{},\"requestedAuthConfigs\":{}},\"id\":\"lVT7sC9e\",\"timestamp\":1749498302.916169}]\n"
     ]
    }
   ],
   "source": [
    "message_data = {\n",
    "    \"app_name\": \"app\",\n",
    "    \"user_id\": user_id,\n",
    "    \"session_id\": session_id,\n",
    "    \"new_message\": {\"role\": \"user\", \"parts\": [{\"text\": \"Review PR code changes according to your instructions.\"}]},\n",
    "    \"streaming\": False,\n",
    "}\n",
    "\n",
    "message_url = \"http://127.0.0.1:8000/run\"\n",
    "message_response = requests.post(\n",
    "    message_url, headers=headers, json=message_data, stream=False\n",
    ")\n",
    "\n",
    "print(f\"Message send status code: {message_response.status_code}\")\n",
    "print(message_response.text)"
   ]
  }
 ],
 "metadata": {
  "kernelspec": {
   "display_name": ".venv",
   "language": "python",
   "name": "python3"
  },
  "language_info": {
   "codemirror_mode": {
    "name": "ipython",
    "version": 3
   },
   "file_extension": ".py",
   "mimetype": "text/x-python",
   "name": "python",
   "nbconvert_exporter": "python",
   "pygments_lexer": "ipython3",
   "version": "3.11.6"
  }
 },
 "nbformat": 4,
 "nbformat_minor": 2
}
