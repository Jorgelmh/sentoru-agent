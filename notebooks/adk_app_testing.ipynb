{
 "cells": [
  {
   "cell_type": "markdown",
   "metadata": {},
   "source": [
    "# ADK Application Testing\n",
    "\n",
    "This notebook demonstrates how to test an ADK (Agent Development Kit) application.\n",
    "It covers both local and remote testing, both with Agent Engine and Cloud Run.\n",
    "\n",
    "<img src=\"https://github.com/GoogleCloudPlatform/agent-starter-pack/blob/main/docs/images/adk_logo.png?raw=true\" width=\"400\">\n"
   ]
  },
  {
   "cell_type": "markdown",
   "metadata": {},
   "source": [
    "## Install dependencies"
   ]
  },
  {
   "cell_type": "markdown",
   "metadata": {},
   "source": [
    "### Import libraries"
   ]
  },
  {
   "cell_type": "code",
   "execution_count": null,
   "metadata": {},
   "outputs": [],
   "source": [
    "import os\n",
    "from uuid import uuid4\n",
    "\n",
    "from vertexai import agent_engines\n",
    "from vertexai.preview.reasoning_engines import AdkApp\n",
    "\n",
    "from app.agent import root_agent\n",
    "from app.agent_engine_app import AgentEngineApp"
   ]
  },
  {
   "cell_type": "markdown",
   "metadata": {},
   "source": [
    "### Local Testing\n",
    "\n",
    "You can import directly the AgentEngineApp class within your environment. \n",
    "To run the agent locally, follow these steps:\n",
    "1. Make sure all required packages are installed in your environment\n",
    "2. The recommended approach is to use the same virtual environment created by the 'uv' tool\n",
    "3. You can set up this environment by running 'make install' from your agent's root directory\n",
    "4. Then select this kernel (.venv folder in your project) in your Jupyter notebook to ensure all dependencies are available"
   ]
  },
  {
   "cell_type": "code",
   "execution_count": 4,
   "metadata": {},
   "outputs": [],
   "source": [
    "async def run_async_query_and_get_results(\n",
    "    a_engine: AdkApp, git_diff_content: str, remote: bool = False\n",
    "):\n",
    "    user_id = \"test_user_async\"\n",
    "    session_id = str(uuid4())\n",
    "    state = {\"state\": {\"git_diff\": git_diff_content}}\n",
    "    events = []\n",
    "\n",
    "    if not remote:\n",
    "        await a_engine.async_create_session(\n",
    "            user_id=user_id, session_id=session_id, state=state\n",
    "        )\n",
    "\n",
    "    agent_response_iterator = a_engine.async_stream_query(\n",
    "        message=\"Review PR code changes according to your instructions.\",\n",
    "        user_id=user_id,\n",
    "        session_id=None if remote else session_id,\n",
    "    )\n",
    "\n",
    "    async for event in agent_response_iterator:\n",
    "        events.append(event)\n",
    "\n",
    "    return events"
   ]
  },
  {
   "cell_type": "code",
   "execution_count": 5,
   "metadata": {},
   "outputs": [],
   "source": [
    "def get_code_fixes_and_pentests(results):\n",
    "    \"\"\"\n",
    "    Get the code fixes and pentests from the results.\n",
    "    \"\"\"\n",
    "    fixed_code_patches = {}\n",
    "    pen_tests = {}\n",
    "\n",
    "    for entry in results:\n",
    "        actions = entry.get(\"actions\", {})\n",
    "        state_delta = actions.get(\"state_delta\", {})\n",
    "\n",
    "        if \"fixed_code_patches\" in state_delta:\n",
    "            fixed_code_patches = state_delta[\"fixed_code_patches\"]\n",
    "        if \"pen_tests\" in state_delta:\n",
    "            pen_tests = state_delta[\"pen_tests\"]\n",
    "\n",
    "    return fixed_code_patches, pen_tests"
   ]
  },
  {
   "cell_type": "code",
   "execution_count": null,
   "metadata": {},
   "outputs": [],
   "source": [
    "with open(\"../tests/samples/sample.diff\") as f:\n",
    "    git_diff = f.read()\n",
    "\n",
    "agent_engine = AgentEngineApp(agent=root_agent)\n",
    "results = await run_async_query_and_get_results(agent_engine, git_diff)\n",
    "fixes, pentests = get_code_fixes_and_pentests(results)"
   ]
  },
  {
   "cell_type": "code",
   "execution_count": null,
   "metadata": {},
   "outputs": [],
   "source": [
    "results"
   ]
  },
  {
   "cell_type": "code",
   "execution_count": null,
   "metadata": {},
   "outputs": [],
   "source": [
    "fixes"
   ]
  },
  {
   "cell_type": "code",
   "execution_count": null,
   "metadata": {},
   "outputs": [],
   "source": [
    "pentests"
   ]
  },
  {
   "cell_type": "markdown",
   "metadata": {},
   "source": [
    "### Remote Testing\n",
    "\n",
    "Using Agent Engine deployment to Vertex AI. Need to add REASONING_ENGINE_ID from your Vertex deployment."
   ]
  },
  {
   "cell_type": "code",
   "execution_count": 30,
   "metadata": {},
   "outputs": [],
   "source": [
    "AGENT_ENGINE_ID = f\"projects/{os.environ.get('GOOGLE_CLOUD_PROJECT')}/locations/us-central1/reasoningEngines/2542396338859933696\"\n",
    "remote_agent_engine = agent_engines.get(AGENT_ENGINE_ID)\n",
    "\n",
    "remote_results = await run_async_query_and_get_results(\n",
    "    remote_agent_engine, git_diff, remote=True\n",
    ")\n",
    "r_fixes, r_pentests = get_code_fixes_and_pentests(remote_results)"
   ]
  },
  {
   "cell_type": "code",
   "execution_count": null,
   "metadata": {},
   "outputs": [],
   "source": [
    "r_fixes"
   ]
  },
  {
   "cell_type": "code",
   "execution_count": null,
   "metadata": {},
   "outputs": [],
   "source": [
    "r_pentests"
   ]
  }
 ],
 "metadata": {
  "kernelspec": {
   "display_name": ".venv",
   "language": "python",
   "name": "python3"
  },
  "language_info": {
   "codemirror_mode": {
    "name": "ipython",
    "version": 3
   },
   "file_extension": ".py",
   "mimetype": "text/x-python",
   "name": "python",
   "nbconvert_exporter": "python",
   "pygments_lexer": "ipython3",
   "version": "3.11.6"
  }
 },
 "nbformat": 4,
 "nbformat_minor": 2
}
